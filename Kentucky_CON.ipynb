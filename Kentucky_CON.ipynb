{
  "nbformat": 4,
  "nbformat_minor": 0,
  "metadata": {
    "colab": {
      "provenance": []
    },
    "kernelspec": {
      "name": "python3",
      "display_name": "Python 3"
    },
    "language_info": {
      "name": "python"
    }
  },
  "cells": [
    {
      "cell_type": "code",
      "execution_count": null,
      "metadata": {
        "id": "Pl3qAkyQrp54"
      },
      "outputs": [],
      "source": [
        "import requests\n",
        "import pandas as pd\n",
        "\n",
        "\n",
        "data = {\n",
        "    'tvMenu_ExpandState': 'nenenenen',\n",
        "    'tvMenu_SelectedNode': 'tvMenut8',\n",
        "    '__EVENTTARGET': '',\n",
        "    '__EVENTARGUMENT': '',\n",
        "    'tvMenu_PopulateLog': '',\n",
        "    '__VIEWSTATE': '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',\n",
        "    '__VIEWSTATEGENERATOR': 'B1CD3A9C',\n",
        "    '__EVENTVALIDATION': '/wEdALsBNpGyBCudgoQ6xwkeI/sd/sHy7fNeRasPPT4VkHWLp2s5XEXHgPtdgXIEBxXkpbz5ysyC9bnFb5oagxQrCj8k5wUJ++onCPZCVmEDc+BkjMLJVKYDRSbK6UhYsSQ3LHzoKoWKh2wAdveggjZDfv1j1ZVtil+IcND1RFh+raGIdsp6H3HNoOsVPWZP6cR3oxpxMjIRfnXoqfI+HUchwtfQyMmJRfZPBiitZpaqJmk9kVqs6AGXZvVrrft7hXkcYuk2P/UcNJiiKrooWm5k1EJnNRYTmIbJxCn9P6jezoDHsSsF4gpjFy0OK0rMSMqz18kYQSjoS2IYbIwaF/jVSj/uH7rFnxIdFkW3mI4Fb0RuBpkBGDBHWQYJUluuHqBH05ZqzG9OWaJH/cwwu/2DFKha21O06yjxmB/QcaUrXNjfg3bF0Pxz/5hQVRSMJlL/mn41g5zvkbsidq3C5dtgLotEWKaxwLy2viDKSdaScrv70XVLVCCH3dFvk+EpdM5KqPcwuw6JrQwFST/mGRKAhxY2f2Ot12ggTBa6De5wyIzHAk3YSKlNoPI11L698lY3gcJjyG/O+1WuOg8RdGE37wTqu9t4nFebaU2BA+0gLPMhoE0RP6QYdJKADCGk13WxOpdlBGZTTPRsS58Uv1jFaVG3Dk4IO00hlFqA7eoLQ1ZwWVXsC8c8sQceaGEalcyxsOWFjix2YZV5w6dRr1WchqyKNy3tilYEQLpq7lBsrP7bvTiYh3PXGTHYgZ+ykGZiPZVsC5NY3TRcAlMzvMnnRijnXD5HqBGiQn4O5kJM2Et75T5SCo9NgGU5QuoxFpePI6VyGYdGvmC2gCoxGs2ZVBq+cbLmJoRZMwDwVcA8Z3HzU+5T9vTEU4bHkCIqZVNzf4Xn/P34+j9tKF2O6OnsmQuVPXjSsb41elKz4U7r7XJw/UXjU77vS4aEYFbByKVlzU2QQNXVqB8nBAw5zV7/sUXBVBQ/8frjkUcI9mfZOPwymI5O14e8uhyhF2QnDHJqXgeZTJ3MnS4/0BEmgi7ljRPbimi0saryT/jtdDApX4VUHZRJkmbiADGRccNaa9SgCJ+0R/3t/fT0T8inOe/HHTMVs+8VYrBQGRrlHMiQcO+UmdU+Pnxje5jzbvVcIwWXf+sqyeDrrvO1e1GoslFyLgN9VXFP+wIJsEyJLPD7q6hNPzZigAp9n1xbHSVJvU85tKwQHZdhV0rDhBNWhBVF7MXLT7Q774xz1SczMuqc9ktUba27FP+rMQwTnW68R7y8cXN4tuELpFsT5XXJ3NbCaG4Q7vkowNuv/aqwBBj3r1XbVbyx33xe74H9cThcPImu0ML7Aw0wAAyrrJI+DrFmLHZi9fDR2DUEXS3t3zf8DTDNj8wjYMRqu6A63SBFQwmc1GtylMYZaSyPtjOhLNCX3mr2mZTNITxOd3CnUZPQnHwQGpv5oEhtrNL2FAwdxi98zvXE0yAe/lqhSbx9L9tEFkSjqycrsspn/WA892nnJrhe4Lf6PYR2TYuigbNnJr4lwNNZpdsBMS71xW3TrXZvc/h2gW1N1kW55fzV7tR7SfgAauLOc8wGmCK/14p4VkVbH7IF+Rs/bDMKrrGJx3cECh3J9Hhq+M9SBjVY/+ahUl0fJgcXhrsKom6aCPxrXdwdoiwXG87W3CxYqgtuW3rWzbBEvVTGTM15NPDz5+bfApGMH3/5fTH91Rb7Pd2UDMtE07X5scoNa1JdGttwXvwnd7bjbzAOIzECa8imFkS/7xIi5OcnXDJJ4IOMYjrTGpmT5oG8vIokMMO871fYc71N4cITpgU9EgpfVVUkkOD3HnZX07Tmkj0ZHZnTb4RF86VBpuol1fXA4LZca5R5d79tu1KKmVFE8v8Rl2inDsSrBTR3FlbsA/aRbC83OrrqlhYL193rJgcEsrYFogsFuF/ABEH5L0NGeI0l+dIg9PWImpxo8VxSR2ktQWhNmrY8jpOkJcR6ZnftISUrOc1QK9VvkZhK/6AjwV7feScRvcdfzvJa/D2heTYv2h4k1mpdr4+dX8tquhEweqWTcl9fuEb8rittvxeg/vBkljWY3Hsnae5vlTqRUytU7S4oXQrbbeQZFa2Yd9WaAMAG8fvLhZfKVH92TiJub336K69SBcd1vPbZEcIUvthglwlyKtoIHvtSZO0hpG3sm6hQKWzwvmzvRrrDE16qMzfkMt1ci81i7Ev1VJrQBDO8xSzRndeoILpqPXK9Tu3u5nhhjWXTh/UVv+T4A4K4rsl0/zMB9O7PzpCtvrn7MFRlBu36R0ENS7ulhwCrfT/O8rVPlo2lIY0F477y1ydj8SYUD0p88AFp7GGSjLami3YMgr84/WyX3xRUO+OtcVZHmP5QAJRj0HDMRweXvl3K2z+ADBxmX5DJCPv49kUHn8aJGjvntuDHmW3t0S13qMA7Fi9ZNpi91H2NnFo6xWCxbDjJ1C8HxIgH67nRtsI+S0+2A+Qk5OO9sDI/qPPPqB2JIX/oLy1p3p3yZoF+WpG0HaeJbwT5MSEJc9Ae5dZSrCgQGtF9gOruYGWE9RjbZ5HVTfJOpI+YmQeztvCNhgBWmlsyRauBbZmOpPfIVloM8h+sUFhAN6OpGigHja71nzwGdWTWb4+mYDEGtkFUAGu2vr6k7enB8ONua2gqR74V17/6oTj3wsUH1hX/Tw3PusiS0qMbLWeFwr6nfvGDrgGU32LkMPguZyVssURcqeJu9ZGkLi6spRg7tPmzVkoJoX0oDsIEhFb1b1HOcxCzWwZRK2ABeutz/IyyowEYfENfg1bbKO2w8BOW5Aro/2dQ3PR9U/fmrZ2edDF1xKTyqj02xQB33p7dw+3wbYAKra0JbrcdqelEuM+JwOwJdaLbDS7j2cY3Q0acbNd9Wp4pNF6RSnBMj5+PbFLHp6cIeW/XsF5Vqrc5ppMYG6tmup9T8KG4KnoD5Pirg+9cZ1WFsWbas6va8YKkrqJH5nZoOukhZy4F3c1Lt1vi0+9cxeUJgTpNuyTe+CZ/eDFudkmBKvt5gMHXl9Mt5iDaakuP7PV8E1BcNCzCJlELTIDunpYANfcmysVs/MBNocKONPHvQfQlBchMk4rvzVTLhMlO+i++92l34WmpPi2z1U31G2HUFPsSEMc9VCLu3ucTbBkIVNu61LTWjxGzbVEkjkRhsYEC+HolrFvBOUpXFG74/jXJNkY4fiQTdw1aYwBI88zViO+Hrxg3RYnpK6CXjj7fqKhnz4KZ2gWbEmDnjPxFX7XH4DNQplB39sxuwxUzytvDDLPPC1d/Zbm2ItbXz1yM2WfizQWikt3Fo8NfqQ7nJmsFi2EY9pYZ/LnVwAUvldoW7ROTcq9s77wYXWVRealWC4MBk4ULZJcqiJCUXUjF/COPKVzotbGGuzyvjYt9v7mu3CCvKMIMsql0f/4PQWioHEwn1KLU+V6TfC59c336dqNDCvtCu0uGxx+l2hR9a359Vl6MrYCRIHbvBLZgFwUGJ4yO9uuhESinS4n0682vXkNlD7i8FP/+Jg74TH3lierrrMIvMJFE9jUt4iefAGfHYr+atap798B/mWWR3bsFtUBqN/ctLtS5G01RePlx5Glm4H+SraQL49PgGdpclThXb4FyPPuRdxb4qM3wU0z73GVI9E8NOlB6Y7SuSW8/nkC2VilM49yJvGXkAAb+U1wnrxr5CbwvnWdycIFAULVEp37b84WuUTPb5+BxHjPeX8/qr3hYDt5VemppZgu6ok5aEc+ShHwjNvpsxgl9NWVn5XbTqWjCe6yv0WDrcNZPsAqV4kyTa54ow8cSrtKRDGpcaGV4sN1jBKM/iXWFApsnAjFaO7RqZ0mNU1pIZba7wONgA5u+HCsKYdn32vu4Er4vmsJXwq+6iRvOjYcHqtCZN9aV+svsZNzdaboDAgKi324CrL+uJxWymZYEz7dZRD0QpdXRtaH5YW9EPEh4ALjsvAt6+kv9JBeFWXqfrQYyxmV1jkmapaqhJL1oqqYMtLDG/vSq6ky7bszbObGtdrLONWU3',\n",
        "    'ctl00$cphmaincontent$txtFacility': '',\n",
        "    'ctl00$cphmaincontent$txtTrackingNb': '',\n",
        "    'ctl00$cphmaincontent$txtLegalNm': '',\n",
        "    'ctl00$cphmaincontent$txtCity': '',\n",
        "    'ctl00$cphmaincontent$ddlCounty': '0',\n",
        "    'ctl00$cphmaincontent$ddlFacilityType': '0',\n",
        "    'ctl00$cphmaincontent$txtContLastNm': '',\n",
        "    'ctl00$cphmaincontent$txtProjDesc': '',\n",
        "    'ctl00$cphmaincontent$ddlDecision': '0',\n",
        "    'ctl00$cphmaincontent$ddlProgressStatus': '0',\n",
        "    'ctl00$cphmaincontent$btnSearch': 'Search',\n",
        "}\n",
        "\n",
        "response = requests.post(\n",
        "    'https://prd.webapps.chfs.ky.gov/cononline/SearchApplication.aspx',\n",
        "    data=data,\n",
        ")"
      ]
    },
    {
      "cell_type": "code",
      "source": [
        "import bs4"
      ],
      "metadata": {
        "id": "YVeW1q6_r86-"
      },
      "execution_count": null,
      "outputs": []
    },
    {
      "cell_type": "code",
      "source": [
        "from bs4 import BeautifulSoup"
      ],
      "metadata": {
        "id": "m9zf5pomrxmD"
      },
      "execution_count": null,
      "outputs": []
    },
    {
      "cell_type": "code",
      "source": [
        "import requests\n",
        "import pandas as pd\n",
        "from bs4 import BeautifulSoup\n",
        "\n",
        "# Make the POST request to the website\n",
        "response = requests.post(\n",
        "    'https://prd.webapps.chfs.ky.gov/cononline/SearchApplication.aspx',\n",
        "    data=data,\n",
        ")\n",
        "\n",
        "# Parse the HTML content\n",
        "soup = BeautifulSoup(response.content, 'html.parser')\n",
        "\n",
        "# Find the table containing the search results\n",
        "table = soup.find('table', {'id': 'cphmaincontent_dg'})\n",
        "\n",
        "# Extract the headers from the table\n",
        "headers = []\n",
        "for th in table.find_all('th'):\n",
        "    headers.append(th.text.strip())\n",
        "\n",
        "# Extract the rows from the table\n",
        "rows = []\n",
        "for tr in table.find_all('tr')[1:]:  # Skip the header row\n",
        "    cells = []\n",
        "    for td in tr.find_all('td'):\n",
        "        cells.append(td.text.strip())\n",
        "    rows.append(cells)\n",
        "\n",
        "# Create a Pandas DataFrame from the extracted data\n",
        "df = pd.DataFrame(rows, columns=headers)\n",
        "\n",
        "# Display or save the dataset\n",
        "df.to_csv('kentucky_con_search_results.csv', index=False)\n",
        "print(\"Search results saved to kentucky_con_search_results.csv\")\n"
      ],
      "metadata": {
        "colab": {
          "base_uri": "https://localhost:8080/"
        },
        "id": "Pl6zG0YzSBru",
        "outputId": "a099d5db-7530-4d06-a38f-cbbabe1e8648"
      },
      "execution_count": null,
      "outputs": [
        {
          "output_type": "stream",
          "name": "stdout",
          "text": [
            "Search results saved to kentucky_con_search_results.csv\n"
          ]
        }
      ]
    },
    {
      "cell_type": "code",
      "source": [
        "hrefs"
      ],
      "metadata": {
        "id": "1ZZCA1a5ToOE",
        "colab": {
          "base_uri": "https://localhost:8080/",
          "height": 141
        },
        "outputId": "5232f4f1-dff0-4a6d-d400-371a7b46f247"
      },
      "execution_count": null,
      "outputs": [
        {
          "output_type": "error",
          "ename": "NameError",
          "evalue": "name 'hrefs' is not defined",
          "traceback": [
            "\u001b[0;31m---------------------------------------------------------------------------\u001b[0m",
            "\u001b[0;31mNameError\u001b[0m                                 Traceback (most recent call last)",
            "\u001b[0;32m<ipython-input-7-864353c64e40>\u001b[0m in \u001b[0;36m<cell line: 1>\u001b[0;34m()\u001b[0m\n\u001b[0;32m----> 1\u001b[0;31m \u001b[0mhrefs\u001b[0m\u001b[0;34m\u001b[0m\u001b[0;34m\u001b[0m\u001b[0m\n\u001b[0m",
            "\u001b[0;31mNameError\u001b[0m: name 'hrefs' is not defined"
          ]
        }
      ]
    }
  ]
}